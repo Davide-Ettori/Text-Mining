{
 "cells": [
  {
   "cell_type": "code",
   "execution_count": 1,
   "metadata": {},
   "outputs": [],
   "source": [
    "def compare_files(file1, file2):\n",
    "    with open(file1, 'r') as f1, open(file2, 'r') as f2:\n",
    "        lines1 = f1.readlines()\n",
    "        lines2 = f2.readlines()\n",
    "\n",
    "    # Skip first and last row\n",
    "    lines1 = lines1[1:-1]\n",
    "    lines2 = lines2[1:-1]\n",
    "\n",
    "    # Ensure both files have the same number of lines after skipping\n",
    "    if len(lines1) != len(lines2):\n",
    "        raise ValueError(\"Files have different number of lines after skipping first and last rows\")\n",
    "\n",
    "    equal_lines = sum(1 for line1, line2 in zip(lines1, lines2) if line1 == line2)\n",
    "    total_lines = len(lines1)\n",
    "\n",
    "    percentage_equal = (equal_lines / total_lines) * 100\n",
    "    print(f\"Percentage of equal rows: {percentage_equal:.2f}%\")"
   ]
  },
  {
   "cell_type": "code",
   "execution_count": 2,
   "metadata": {},
   "outputs": [
    {
     "name": "stdout",
     "output_type": "stream",
     "text": [
      "Percentage of equal rows: 71.81%\n"
     ]
    }
   ],
   "source": [
    "compare_files('antonio1.txt', 'davide1.txt')"
   ]
  },
  {
   "cell_type": "code",
   "execution_count": 3,
   "metadata": {},
   "outputs": [
    {
     "name": "stdout",
     "output_type": "stream",
     "text": [
      "Percentage of equal rows: 75.89%\n"
     ]
    }
   ],
   "source": [
    "compare_files('antonio2.txt', 'davide2.txt')"
   ]
  }
 ],
 "metadata": {
  "kernelspec": {
   "display_name": "Python 3",
   "language": "python",
   "name": "python3"
  },
  "language_info": {
   "codemirror_mode": {
    "name": "ipython",
    "version": 3
   },
   "file_extension": ".py",
   "mimetype": "text/x-python",
   "name": "python",
   "nbconvert_exporter": "python",
   "pygments_lexer": "ipython3",
   "version": "3.9.18"
  }
 },
 "nbformat": 4,
 "nbformat_minor": 2
}
