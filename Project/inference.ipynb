{
 "cells": [
  {
   "cell_type": "code",
   "execution_count": 8,
   "metadata": {},
   "outputs": [],
   "source": [
    "import pandas as pd\n",
    "import re\n",
    "import string\n",
    "from sentence_transformers import SentenceTransformer\n",
    "import pickle\n",
    "import os"
   ]
  },
  {
   "cell_type": "code",
   "execution_count": 9,
   "metadata": {},
   "outputs": [
    {
     "name": "stdout",
     "output_type": "stream",
     "text": [
      "(9, 1)\n"
     ]
    },
    {
     "data": {
      "text/html": [
       "<div>\n",
       "<style scoped>\n",
       "    .dataframe tbody tr th:only-of-type {\n",
       "        vertical-align: middle;\n",
       "    }\n",
       "\n",
       "    .dataframe tbody tr th {\n",
       "        vertical-align: top;\n",
       "    }\n",
       "\n",
       "    .dataframe thead th {\n",
       "        text-align: right;\n",
       "    }\n",
       "</style>\n",
       "<table border=\"1\" class=\"dataframe\">\n",
       "  <thead>\n",
       "    <tr style=\"text-align: right;\">\n",
       "      <th></th>\n",
       "      <th>tweet</th>\n",
       "    </tr>\n",
       "  </thead>\n",
       "  <tbody>\n",
       "    <tr>\n",
       "      <th>0</th>\n",
       "      <td>Kirkpatrick, who wore a baseball cap embroider...</td>\n",
       "    </tr>\n",
       "    <tr>\n",
       "      <th>1</th>\n",
       "      <td>Question: If &lt;e&gt;Romney&lt;/e&gt; and &lt;e&gt;Obama&lt;/e&gt; ha...</td>\n",
       "    </tr>\n",
       "    <tr>\n",
       "      <th>2</th>\n",
       "      <td>#&lt;e&gt;obama&lt;/e&gt; debates that Cracker Ass Cracker...</td>\n",
       "    </tr>\n",
       "    <tr>\n",
       "      <th>3</th>\n",
       "      <td>RT @davewiner Slate: Blame &lt;e&gt;Obama&lt;/e&gt; for fo...</td>\n",
       "    </tr>\n",
       "    <tr>\n",
       "      <th>4</th>\n",
       "      <td>@Hollivan @hereistheanswer  Youre missing the ...</td>\n",
       "    </tr>\n",
       "    <tr>\n",
       "      <th>5</th>\n",
       "      <td>Insidious!&lt;e&gt;Mitt Romney&lt;/e&gt;'s Bain Helped Phi...</td>\n",
       "    </tr>\n",
       "    <tr>\n",
       "      <th>6</th>\n",
       "      <td>Senior &lt;e&gt;Romney&lt;/e&gt; Advisor Claims &lt;e&gt;Obama&lt;/...</td>\n",
       "    </tr>\n",
       "    <tr>\n",
       "      <th>7</th>\n",
       "      <td>.@WardBrenda @shortwave8669 @allanbourdius you...</td>\n",
       "    </tr>\n",
       "    <tr>\n",
       "      <th>8</th>\n",
       "      <td>&lt;e&gt;Mitt Romney&lt;/e&gt; still doesn't &lt;a&gt;believe&lt;/a...</td>\n",
       "    </tr>\n",
       "  </tbody>\n",
       "</table>\n",
       "</div>"
      ],
      "text/plain": [
       "                                               tweet\n",
       "0  Kirkpatrick, who wore a baseball cap embroider...\n",
       "1  Question: If <e>Romney</e> and <e>Obama</e> ha...\n",
       "2  #<e>obama</e> debates that Cracker Ass Cracker...\n",
       "3  RT @davewiner Slate: Blame <e>Obama</e> for fo...\n",
       "4  @Hollivan @hereistheanswer  Youre missing the ...\n",
       "5  Insidious!<e>Mitt Romney</e>'s Bain Helped Phi...\n",
       "6  Senior <e>Romney</e> Advisor Claims <e>Obama</...\n",
       "7  .@WardBrenda @shortwave8669 @allanbourdius you...\n",
       "8  <e>Mitt Romney</e> still doesn't <a>believe</a..."
      ]
     },
     "execution_count": 9,
     "metadata": {},
     "output_type": "execute_result"
    }
   ],
   "source": [
    "data_path='test_data/tweets.xlsx'\n",
    "# Read both sheets from the Excel file\n",
    "df_sheet1 = pd.read_excel(data_path, sheet_name=0, header=None)\n",
    "df_sheet2 = pd.read_excel(data_path, sheet_name=1, header=None)\n",
    "\n",
    "count_obama = len(df_sheet1)\n",
    "\n",
    "# Combine the dataframes\n",
    "df = pd.concat([df_sheet1, df_sheet2], ignore_index=True)\n",
    "df.columns = ['tweet']\n",
    "print(df.shape)\n",
    "df.head(10)"
   ]
  },
  {
   "cell_type": "code",
   "execution_count": 10,
   "metadata": {},
   "outputs": [
    {
     "name": "stdout",
     "output_type": "stream",
     "text": [
      "(9, 1)\n"
     ]
    },
    {
     "data": {
      "text/html": [
       "<div>\n",
       "<style scoped>\n",
       "    .dataframe tbody tr th:only-of-type {\n",
       "        vertical-align: middle;\n",
       "    }\n",
       "\n",
       "    .dataframe tbody tr th {\n",
       "        vertical-align: top;\n",
       "    }\n",
       "\n",
       "    .dataframe thead th {\n",
       "        text-align: right;\n",
       "    }\n",
       "</style>\n",
       "<table border=\"1\" class=\"dataframe\">\n",
       "  <thead>\n",
       "    <tr style=\"text-align: right;\">\n",
       "      <th></th>\n",
       "      <th>tweet</th>\n",
       "    </tr>\n",
       "  </thead>\n",
       "  <tbody>\n",
       "    <tr>\n",
       "      <th>0</th>\n",
       "      <td>Kirkpatrick who wore a baseball cap embroidere...</td>\n",
       "    </tr>\n",
       "    <tr>\n",
       "      <th>1</th>\n",
       "      <td>Question If Romney and Obama had a childpunchi...</td>\n",
       "    </tr>\n",
       "    <tr>\n",
       "      <th>2</th>\n",
       "      <td>obama debates that Cracker Ass Cracker tonight...</td>\n",
       "    </tr>\n",
       "    <tr>\n",
       "      <th>3</th>\n",
       "      <td>RT Slate Blame Obama for four deaths in Libya ...</td>\n",
       "    </tr>\n",
       "    <tr>\n",
       "      <th>4</th>\n",
       "      <td>Youre missing the point Im afraid you do not u...</td>\n",
       "    </tr>\n",
       "    <tr>\n",
       "      <th>5</th>\n",
       "      <td>InsidiousMitt Romneys Bain Helped Philip Morri...</td>\n",
       "    </tr>\n",
       "    <tr>\n",
       "      <th>6</th>\n",
       "      <td>Senior Romney Advisor Claims Obama Administrat...</td>\n",
       "    </tr>\n",
       "    <tr>\n",
       "      <th>7</th>\n",
       "      <td>you mean like romney cheated in primary</td>\n",
       "    </tr>\n",
       "    <tr>\n",
       "      <th>8</th>\n",
       "      <td>Mitt Romney still doesnt believe that we have ...</td>\n",
       "    </tr>\n",
       "  </tbody>\n",
       "</table>\n",
       "</div>"
      ],
      "text/plain": [
       "                                               tweet\n",
       "0  Kirkpatrick who wore a baseball cap embroidere...\n",
       "1  Question If Romney and Obama had a childpunchi...\n",
       "2  obama debates that Cracker Ass Cracker tonight...\n",
       "3  RT Slate Blame Obama for four deaths in Libya ...\n",
       "4  Youre missing the point Im afraid you do not u...\n",
       "5  InsidiousMitt Romneys Bain Helped Philip Morri...\n",
       "6  Senior Romney Advisor Claims Obama Administrat...\n",
       "7            you mean like romney cheated in primary\n",
       "8  Mitt Romney still doesnt believe that we have ..."
      ]
     },
     "execution_count": 10,
     "metadata": {},
     "output_type": "execute_result"
    }
   ],
   "source": [
    "df['tweet'] = df['tweet'].astype(str).fillna('')\n",
    "\n",
    "# Remove HTML tags, mentions, URLs, &-starting strings, specific characters, punctuation\n",
    "df['tweet'] = df['tweet'].str.replace(r'<[^>]*>', '', regex=True)  # Remove HTML tags\n",
    "df['tweet'] = df['tweet'].str.replace(r'@\\w+', '', regex=True)  # Remove mentions starting with @\n",
    "df['tweet'] = df['tweet'].str.replace(r'http\\S+', '', regex=True)  # Remove URLs starting with http\n",
    "df['tweet'] = df['tweet'].str.replace(r'&\\S+', '', regex=True)  # Remove strings starting with &\n",
    "df['tweet'] = df['tweet'].str.replace(r'\"', '', regex=True)  # Remove double quotes\n",
    "df['tweet'] = df['tweet'].str.replace(r'#', '', regex=True)  # Remove hash symbols\n",
    "\n",
    "# Remove non-ASCII characters\n",
    "df['tweet'] = df['tweet'].apply(lambda x: x.encode('ascii', 'ignore').decode('ascii') if isinstance(x, str) else x)\n",
    "\n",
    "# Remove punctuation\n",
    "df['tweet'] = df['tweet'].str.replace(f\"[{re.escape(string.punctuation)}]\", '', regex=True)\n",
    "\n",
    "# Remove extra spaces that may result from removals\n",
    "df['tweet'] = df['tweet'].str.strip().replace(r'\\s+', ' ', regex=True)\n",
    "\n",
    "print(df.shape)\n",
    "df.head(10)"
   ]
  },
  {
   "cell_type": "code",
   "execution_count": 11,
   "metadata": {},
   "outputs": [
    {
     "data": {
      "text/plain": [
       "(9,)"
      ]
     },
     "execution_count": 11,
     "metadata": {},
     "output_type": "execute_result"
    }
   ],
   "source": [
    "tweet_vector = df['tweet'].to_numpy()\n",
    "tweet_vector.shape"
   ]
  },
  {
   "cell_type": "code",
   "execution_count": 12,
   "metadata": {},
   "outputs": [
    {
     "data": {
      "text/plain": [
       "(9, 768)"
      ]
     },
     "execution_count": 12,
     "metadata": {},
     "output_type": "execute_result"
    }
   ],
   "source": [
    "model = SentenceTransformer(\"all-mpnet-base-v2\")\n",
    "train_embeddings = model.encode(tweet_vector)\n",
    "train_embeddings.shape"
   ]
  },
  {
   "cell_type": "code",
   "execution_count": 13,
   "metadata": {},
   "outputs": [
    {
     "data": {
      "text/plain": [
       "(9,)"
      ]
     },
     "execution_count": 13,
     "metadata": {},
     "output_type": "execute_result"
    }
   ],
   "source": [
    "with open('models/SVM.pkl', 'rb') as file:\n",
    "    svm_model = pickle.load(file)\n",
    "\n",
    "predictions = svm_model.predict(train_embeddings)\n",
    "final_results = predictions - 1\n",
    "\n",
    "final_results.shape"
   ]
  },
  {
   "cell_type": "code",
   "execution_count": 14,
   "metadata": {},
   "outputs": [],
   "source": [
    "os.makedirs('results', exist_ok=True)\n",
    "\n",
    "with open('results/obama.txt', 'w') as obama_file:\n",
    "    for label in final_results[:count_obama]:\n",
    "        obama_file.write(f\"{label}\\n\")\n",
    "\n",
    "with open('results/romney.txt', 'w') as romney_file:\n",
    "    for label in final_results[count_obama:]:\n",
    "        romney_file.write(f\"{label}\\n\")"
   ]
  }
 ],
 "metadata": {
  "kernelspec": {
   "display_name": "Python 3",
   "language": "python",
   "name": "python3"
  },
  "language_info": {
   "codemirror_mode": {
    "name": "ipython",
    "version": 3
   },
   "file_extension": ".py",
   "mimetype": "text/x-python",
   "name": "python",
   "nbconvert_exporter": "python",
   "pygments_lexer": "ipython3",
   "version": "3.9.18"
  }
 },
 "nbformat": 4,
 "nbformat_minor": 2
}
