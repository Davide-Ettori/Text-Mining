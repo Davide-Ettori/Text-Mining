{
 "cells": [
  {
   "cell_type": "code",
   "execution_count": 1,
   "metadata": {},
   "outputs": [
    {
     "name": "stderr",
     "output_type": "stream",
     "text": [
      "2024-11-13 11:06:43.578142: I tensorflow/core/platform/cpu_feature_guard.cc:210] This TensorFlow binary is optimized to use available CPU instructions in performance-critical operations.\n",
      "To enable the following instructions: AVX2 FMA, in other operations, rebuild TensorFlow with the appropriate compiler flags.\n"
     ]
    }
   ],
   "source": [
    "from sklearn.svm import SVC\n",
    "from sklearn.neighbors import KNeighborsClassifier\n",
    "from sklearn.metrics import accuracy_score\n",
    "from sklearn.model_selection import train_test_split\n",
    "import pandas as pd\n",
    "from sentence_transformers import SentenceTransformer"
   ]
  },
  {
   "cell_type": "code",
   "execution_count": 34,
   "metadata": {},
   "outputs": [
    {
     "name": "stdout",
     "output_type": "stream",
     "text": [
      "Train data shape: (7782,)\n",
      "Test data shape: (3336,)\n",
      "which means Big Bird is a 1er Obama supports the wealthy and privileged Who knew -1\n",
      "384 7782\n"
     ]
    }
   ],
   "source": [
    "# Load data\n",
    "data = pd.read_csv(\"../data_cleaned/train_data_cleaned.csv\", header=None, names=[\"tweet\", \"sentiment\"])\n",
    "\n",
    "# Split data\n",
    "train_tweets, test_tweets, train_labels, test_labels = train_test_split(\n",
    "    data[\"tweet\"].to_numpy()[1:], data[\"sentiment\"].to_numpy()[1:].astype(int), test_size=0.3, random_state=42\n",
    ")\n",
    "\n",
    "print(\"Train data shape:\", train_tweets.shape)\n",
    "print(\"Test data shape:\", test_tweets.shape)\n",
    "\n",
    "print(train_tweets[0], train_labels[0])\n",
    "\n",
    "# Adjust labels from -1, 0, 1 to 0, 1, 2\n",
    "train_labels += 1\n",
    "test_labels += 1\n",
    "\n",
    "# Convert tweets to embeddings\n",
    "model = SentenceTransformer(\"all-MiniLM-L6-v2\")\n",
    "train_embeddings = model.encode(train_tweets)\n",
    "test_embeddings = model.encode(test_tweets)\n",
    "print(len(train_embeddings[0]), len(train_embeddings))"
   ]
  },
  {
   "cell_type": "code",
   "execution_count": 35,
   "metadata": {},
   "outputs": [],
   "source": [
    "val_embeddings = test_embeddings[:len(test_tweets)//2]\n",
    "val_labels = test_labels[:len(test_labels)//2]\n",
    "\n",
    "test_embeddings = test_embeddings[len(test_tweets)//2:]\n",
    "test_labels = test_labels[len(test_labels)//2:]"
   ]
  },
  {
   "cell_type": "code",
   "execution_count": 38,
   "metadata": {},
   "outputs": [
    {
     "name": "stdout",
     "output_type": "stream",
     "text": [
      "SVM Val Accuracy: 0.6474820143884892\n"
     ]
    }
   ],
   "source": [
    "# Train SVM with RBF kernel\n",
    "svm_model = SVC(kernel='rbf', C=1, gamma='scale')\n",
    "svm_model.fit(train_embeddings, train_labels)\n",
    "svm_predictions = svm_model.predict(val_embeddings)\n",
    "svm_accuracy = accuracy_score(val_labels, svm_predictions)\n",
    "print(\"SVM Val Accuracy:\", svm_accuracy)"
   ]
  },
  {
   "cell_type": "code",
   "execution_count": 39,
   "metadata": {},
   "outputs": [
    {
     "name": "stdout",
     "output_type": "stream",
     "text": [
      "SVM Test Accuracy: 0.644484412470024\n"
     ]
    }
   ],
   "source": [
    "svm_predictions = svm_model.predict(test_embeddings)\n",
    "svm_accuracy = accuracy_score(test_labels, svm_predictions)\n",
    "print(\"SVM Test Accuracy:\", svm_accuracy)"
   ]
  },
  {
   "cell_type": "code",
   "execution_count": 23,
   "metadata": {},
   "outputs": [
    {
     "name": "stdout",
     "output_type": "stream",
     "text": [
      "KNN Val Accuracy: 0.5764388489208633\n"
     ]
    }
   ],
   "source": [
    "# Train K-Nearest Neighbors\n",
    "knn_model = KNeighborsClassifier(n_neighbors=7)\n",
    "knn_model.fit(train_embeddings, train_labels)\n",
    "knn_predictions = knn_model.predict(val_embeddings)\n",
    "knn_accuracy = accuracy_score(val_labels, knn_predictions)\n",
    "print(\"KNN Val Accuracy:\", knn_accuracy)"
   ]
  },
  {
   "cell_type": "code",
   "execution_count": 24,
   "metadata": {},
   "outputs": [
    {
     "name": "stdout",
     "output_type": "stream",
     "text": [
      "KNN Test Accuracy: 0.6052158273381295\n"
     ]
    }
   ],
   "source": [
    "knn_predictions = knn_model.predict(test_embeddings)\n",
    "knn_accuracy = accuracy_score(test_labels, knn_predictions)\n",
    "print(\"KNN Test Accuracy:\", knn_accuracy)"
   ]
  },
  {
   "cell_type": "code",
   "execution_count": 27,
   "metadata": {},
   "outputs": [
    {
     "name": "stdout",
     "output_type": "stream",
     "text": [
      "Logistic Regression Val Accuracy: 0.6196043165467626\n"
     ]
    }
   ],
   "source": [
    "from sklearn.linear_model import LogisticRegression\n",
    "\n",
    "log_reg_model = LogisticRegression(max_iter=1000)\n",
    "log_reg_model.fit(train_embeddings, train_labels)\n",
    "log_reg_predictions = log_reg_model.predict(val_embeddings)\n",
    "log_reg_accuracy = accuracy_score(val_labels, log_reg_predictions)\n",
    "print(\"Logistic Regression Val Accuracy:\", log_reg_accuracy)"
   ]
  },
  {
   "cell_type": "code",
   "execution_count": 28,
   "metadata": {},
   "outputs": [
    {
     "name": "stdout",
     "output_type": "stream",
     "text": [
      "Logistic Regression Test Accuracy: 0.6564748201438849\n"
     ]
    }
   ],
   "source": [
    "log_reg_predictions = log_reg_model.predict(test_embeddings)\n",
    "log_reg_accuracy = accuracy_score(test_labels, log_reg_predictions)\n",
    "print(\"Logistic Regression Test Accuracy:\", log_reg_accuracy)"
   ]
  },
  {
   "cell_type": "code",
   "execution_count": 29,
   "metadata": {},
   "outputs": [
    {
     "name": "stdout",
     "output_type": "stream",
     "text": [
      "Random Forest Val Accuracy: 0.5881294964028777\n"
     ]
    }
   ],
   "source": [
    "from sklearn.ensemble import RandomForestClassifier\n",
    "\n",
    "rf_model = RandomForestClassifier(n_estimators=100, random_state=42)\n",
    "rf_model.fit(train_embeddings, train_labels)\n",
    "rf_predictions = rf_model.predict(val_embeddings)\n",
    "rf_accuracy = accuracy_score(val_labels, rf_predictions)\n",
    "print(\"Random Forest Val Accuracy:\", rf_accuracy)"
   ]
  },
  {
   "cell_type": "code",
   "execution_count": 30,
   "metadata": {},
   "outputs": [
    {
     "name": "stdout",
     "output_type": "stream",
     "text": [
      "Random Forest Test Accuracy: 0.6034172661870504\n"
     ]
    }
   ],
   "source": [
    "rf_predictions = rf_model.predict(test_embeddings)\n",
    "rf_accuracy = accuracy_score(test_labels, rf_predictions)\n",
    "print(\"Random Forest Test Accuracy:\", rf_accuracy)"
   ]
  },
  {
   "cell_type": "code",
   "execution_count": 32,
   "metadata": {},
   "outputs": [
    {
     "name": "stdout",
     "output_type": "stream",
     "text": [
      "Naive Bayes Val Accuracy: 0.5053956834532374\n"
     ]
    }
   ],
   "source": [
    "from sklearn.naive_bayes import GaussianNB\n",
    "\n",
    "nb_model = GaussianNB()\n",
    "nb_model.fit(train_embeddings, train_labels)\n",
    "nb_predictions = nb_model.predict(val_embeddings)\n",
    "nb_accuracy = accuracy_score(val_labels, nb_predictions)\n",
    "print(\"Naive Bayes Val Accuracy:\", nb_accuracy)"
   ]
  },
  {
   "cell_type": "code",
   "execution_count": 33,
   "metadata": {},
   "outputs": [
    {
     "name": "stdout",
     "output_type": "stream",
     "text": [
      "Naive Bayes Test Accuracy: 0.5152877697841727\n"
     ]
    }
   ],
   "source": [
    "nb_predictions = nb_model.predict(test_embeddings)\n",
    "nb_accuracy = accuracy_score(test_labels, nb_predictions)\n",
    "print(\"Naive Bayes Test Accuracy:\", nb_accuracy)"
   ]
  }
 ],
 "metadata": {
  "kernelspec": {
   "display_name": "Python 3",
   "language": "python",
   "name": "python3"
  },
  "language_info": {
   "codemirror_mode": {
    "name": "ipython",
    "version": 3
   },
   "file_extension": ".py",
   "mimetype": "text/x-python",
   "name": "python",
   "nbconvert_exporter": "python",
   "pygments_lexer": "ipython3",
   "version": "3.9.18"
  }
 },
 "nbformat": 4,
 "nbformat_minor": 2
}
